{
 "cells": [
  {
   "cell_type": "code",
   "execution_count": 4,
   "id": "80ae1334-481d-452b-98d2-2b4a293403f3",
   "metadata": {},
   "outputs": [
    {
     "name": "stdout",
     "output_type": "stream",
     "text": [
      "Model trained successfully ✅\n",
      "RMSE: 45205.80286312809\n"
     ]
    }
   ],
   "source": [
    "import pandas as pd\n",
    "import numpy as np\n",
    "from sklearn.model_selection import train_test_split\n",
    "from sklearn.ensemble import RandomForestRegressor\n",
    "from sklearn.metrics import mean_squared_error\n",
    "\n",
    "# ✅ Data load karo (replace with your CSV file name)\n",
    "df = pd.read_csv(\"data.csv\")\n",
    "\n",
    "# ✅ Features aur Target alag karo\n",
    "X = df.drop(columns=[\"SalePrice\"])\n",
    "y = df[\"SalePrice\"]\n",
    "\n",
    "# ✅ Convert categorical data to numbers\n",
    "X = pd.get_dummies(X, drop_first=True)\n",
    "\n",
    "# ✅ Split data\n",
    "X_train, X_test, y_train, y_test = train_test_split(X, y, test_size=0.2, random_state=42)\n",
    "\n",
    "# ✅ Train model\n",
    "model = RandomForestRegressor(n_estimators=100, random_state=42)\n",
    "model.fit(X_train, y_train)\n",
    "\n",
    "# ✅ Check accuracy\n",
    "pred = model.predict(X_test)\n",
    "rmse = np.sqrt(mean_squared_error(y_test, pred))\n",
    "print(\"Model trained successfully ✅\")\n",
    "print(\"RMSE:\",rmse)"
   ]
  },
  {
   "cell_type": "code",
   "execution_count": 2,
   "id": "a135e5bc-7e92-42d8-b027-d09e0b15f829",
   "metadata": {},
   "outputs": [
    {
     "data": {
      "text/html": [
       "<div>\n",
       "<style scoped>\n",
       "    .dataframe tbody tr th:only-of-type {\n",
       "        vertical-align: middle;\n",
       "    }\n",
       "\n",
       "    .dataframe tbody tr th {\n",
       "        vertical-align: top;\n",
       "    }\n",
       "\n",
       "    .dataframe thead th {\n",
       "        text-align: right;\n",
       "    }\n",
       "</style>\n",
       "<table border=\"1\" class=\"dataframe\">\n",
       "  <thead>\n",
       "    <tr style=\"text-align: right;\">\n",
       "      <th></th>\n",
       "      <th>LotArea</th>\n",
       "      <th>Neighborhood</th>\n",
       "      <th>OverallQual</th>\n",
       "      <th>YearBuilt</th>\n",
       "      <th>TotalBsmtSF</th>\n",
       "      <th>GrLivArea</th>\n",
       "      <th>SalePrice</th>\n",
       "    </tr>\n",
       "  </thead>\n",
       "  <tbody>\n",
       "    <tr>\n",
       "      <th>0</th>\n",
       "      <td>8450</td>\n",
       "      <td>CollgCr</td>\n",
       "      <td>7</td>\n",
       "      <td>2003</td>\n",
       "      <td>856</td>\n",
       "      <td>1710</td>\n",
       "      <td>208500</td>\n",
       "    </tr>\n",
       "    <tr>\n",
       "      <th>1</th>\n",
       "      <td>9600</td>\n",
       "      <td>Veenker</td>\n",
       "      <td>6</td>\n",
       "      <td>1976</td>\n",
       "      <td>1262</td>\n",
       "      <td>1262</td>\n",
       "      <td>181500</td>\n",
       "    </tr>\n",
       "    <tr>\n",
       "      <th>2</th>\n",
       "      <td>11250</td>\n",
       "      <td>CollgCr</td>\n",
       "      <td>7</td>\n",
       "      <td>2001</td>\n",
       "      <td>920</td>\n",
       "      <td>1786</td>\n",
       "      <td>223500</td>\n",
       "    </tr>\n",
       "    <tr>\n",
       "      <th>3</th>\n",
       "      <td>9550</td>\n",
       "      <td>Crawfor</td>\n",
       "      <td>7</td>\n",
       "      <td>1915</td>\n",
       "      <td>756</td>\n",
       "      <td>1717</td>\n",
       "      <td>140000</td>\n",
       "    </tr>\n",
       "    <tr>\n",
       "      <th>4</th>\n",
       "      <td>14260</td>\n",
       "      <td>NoRidge</td>\n",
       "      <td>8</td>\n",
       "      <td>2000</td>\n",
       "      <td>1145</td>\n",
       "      <td>2198</td>\n",
       "      <td>250000</td>\n",
       "    </tr>\n",
       "  </tbody>\n",
       "</table>\n",
       "</div>"
      ],
      "text/plain": [
       "   LotArea Neighborhood  OverallQual  YearBuilt  TotalBsmtSF  GrLivArea  \\\n",
       "0     8450      CollgCr            7       2003          856       1710   \n",
       "1     9600      Veenker            6       1976         1262       1262   \n",
       "2    11250      CollgCr            7       2001          920       1786   \n",
       "3     9550      Crawfor            7       1915          756       1717   \n",
       "4    14260      NoRidge            8       2000         1145       2198   \n",
       "\n",
       "   SalePrice  \n",
       "0     208500  \n",
       "1     181500  \n",
       "2     223500  \n",
       "3     140000  \n",
       "4     250000  "
      ]
     },
     "execution_count": 2,
     "metadata": {},
     "output_type": "execute_result"
    }
   ],
   "source": [
    "df = pd.read_csv(\"data.csv\")\n",
    "df.head()"
   ]
  },
  {
   "cell_type": "code",
   "execution_count": 10,
   "id": "9eddace5-1cfb-4ba9-a9f8-5ce57a63d94d",
   "metadata": {},
   "outputs": [
    {
     "name": "stdout",
     "output_type": "stream",
     "text": [
      "Model trained successfully!\n",
      "Root Mean Squared Error (RMSE): 45205.80286312809\n"
     ]
    }
   ],
   "source": [
    "# Separate features (X) and target (y)\n",
    "X = df.drop(columns=[\"SalePrice\"])\n",
    "y = df[\"SalePrice\"]\n",
    "\n",
    "# Convert text (categorical) columns into numeric using one-hot encoding\n",
    "X = pd.get_dummies(X, drop_first=True)\n",
    "\n",
    "# Split data into training and testing sets\n",
    "X_train, X_test, y_train, y_test = train_test_split(X, y, test_size=0.2, random_state=42)\n",
    "\n",
    "# Create and train the model\n",
    "model = RandomForestRegressor(n_estimators=100, random_state=42)\n",
    "model.fit(X_train, y_train)\n",
    "\n",
    "# Test predictions\n",
    "pred = model.predict(X_test)\n",
    "\n",
    "# Evaluate performance\n",
    "rmse = np.sqrt(mean_squared_error(y_test, pred))\n",
    "print(\"Model trained successfully!\")\n",
    "print(\"Root Mean Squared Error (RMSE):\",rmse)"
   ]
  },
  {
   "cell_type": "code",
   "execution_count": 11,
   "id": "de44ba04-12f8-4dc1-b148-d3bb09a0219f",
   "metadata": {},
   "outputs": [
    {
     "name": "stdout",
     "output_type": "stream",
     "text": [
      "Predicted House Price: 188950.0\n"
     ]
    }
   ],
   "source": [
    "# Example: predict price for a new house\n",
    "sample_data = {\n",
    "    \"LotArea\": [9000],\n",
    "    \"YearBuilt\": [2005],\n",
    "    \"1stFlrSF\": [1200],\n",
    "    \"2ndFlrSF\": [500],\n",
    "    \"GrLivArea\": [1700],\n",
    "    \"GarageCars\": [2],\n",
    "    \"GarageArea\": [400],\n",
    "    \"FullBath\": [2],\n",
    "    \"TotRmsAbvGrd\": [6],\n",
    "    \"Neighborhood_NoRidge\": [0]  # agar one-hot encoded column hai\n",
    "}\n",
    "\n",
    "# Convert dictionary into dataframe\n",
    "sample_df = pd.DataFrame(sample_data)\n",
    "\n",
    "# Match columns with training data (missing columns fill with 0)\n",
    "sample_df = sample_df.reindex(columns=X.columns, fill_value=0)\n",
    "\n",
    "# Predict price\n",
    "predicted_price = model.predict(sample_df)\n",
    "print(\"Predicted House Price:\", predicted_price[0])"
   ]
  },
  {
   "cell_type": "code",
   "execution_count": 5,
   "id": "c8955e7a-809a-4f7e-a746-71d2188b2373",
   "metadata": {},
   "outputs": [
    {
     "name": "stdout",
     "output_type": "stream",
     "text": [
      "✅ Model saved successfully as model.pkl\n"
     ]
    }
   ],
   "source": [
    "import joblib\n",
    "\n",
    "# Save trained model\n",
    "joblib.dump(model, \"model.pkl\")\n",
    "\n",
    "print(\"✅ Model saved successfully as model.pkl\")"
   ]
  },
  {
   "cell_type": "code",
   "execution_count": null,
   "id": "c02d3867-eed4-4685-87c7-b8cb4017d73b",
   "metadata": {},
   "outputs": [],
   "source": []
  }
 ],
 "metadata": {
  "kernelspec": {
   "display_name": "Python 3 (ipykernel)",
   "language": "python",
   "name": "python3"
  },
  "language_info": {
   "codemirror_mode": {
    "name": "ipython",
    "version": 3
   },
   "file_extension": ".py",
   "mimetype": "text/x-python",
   "name": "python",
   "nbconvert_exporter": "python",
   "pygments_lexer": "ipython3",
   "version": "3.13.7"
  }
 },
 "nbformat": 4,
 "nbformat_minor": 5
}
